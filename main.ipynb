{
 "cells": [
  {
   "cell_type": "code",
   "execution_count": 1,
   "metadata": {},
   "outputs": [
    {
     "name": "stderr",
     "output_type": "stream",
     "text": [
      "[nltk_data] Downloading package stopwords to\n",
      "[nltk_data]     C:\\Users\\panag\\AppData\\Roaming\\nltk_data...\n",
      "[nltk_data]   Package stopwords is already up-to-date!\n"
     ]
    }
   ],
   "source": [
    "import pandas as pd\n",
    "from pathlib import Path\n",
    "import csv\n",
    "import nltk\n",
    "nltk.download('stopwords')\n",
    "from nltk.corpus import stopwords\n",
    "from sklearn.base import BaseEstimator, TransformerMixin\n",
    "from sklearn.pipeline import FeatureUnion, Pipeline\n",
    "from sklearn.feature_extraction.text import TfidfVectorizer\n",
    "from lightgbm import LGBMClassifier\n",
    "from sklearn.model_selection import GridSearchCV"
   ]
  },
  {
   "cell_type": "code",
   "execution_count": 2,
   "metadata": {},
   "outputs": [],
   "source": [
    "# Set the absolute path to your data directory\n",
    "data_directory = Path(\"E:/panag/Desktop/Ms Data Science/6 Quarter/Data Science Challenge/data_challenge_aueb_2023\")\n",
    "\n",
    "# Train data\n",
    "y_train_file = \"y_train.txt\"\n",
    "# Authors data\n",
    "authors_file = \"authors.txt\"\n",
    "# Abstract data\n",
    "abstract_file = \"abstract.txt\"\n",
    "# Test data\n",
    "test_file = \"test.txt\"\n",
    "# Year data\n",
    "year_file = \"year.txt\"\n",
    "\n",
    "y_train_path  = data_directory / y_train_file\n",
    "authors_path  = data_directory / authors_file\n",
    "abstract_path = data_directory / abstract_file\n",
    "test_path     = data_directory / test_file\n",
    "year_path     = data_directory / year_file"
   ]
  },
  {
   "attachments": {},
   "cell_type": "markdown",
   "metadata": {},
   "source": [
    "### Algorithm"
   ]
  },
  {
   "attachments": {},
   "cell_type": "markdown",
   "metadata": {},
   "source": [
    "#### All data"
   ]
  },
  {
   "cell_type": "code",
   "execution_count": 3,
   "metadata": {},
   "outputs": [],
   "source": [
    "#### All papers ####\n",
    "\n",
    "# Import Numeric features\n",
    "df_edgelist = pd.read_csv('features_edgelist.csv')\n",
    "df_authors  = pd.read_csv('features_authors.csv')\n",
    "\n",
    "df_year = pd.read_csv(year_path, header=None)\n",
    "df_year.columns = ['paper_id','year']\n",
    "\n",
    "# Numeric Features (Edgelist and Year)\n",
    "df_numeric = pd.merge(df_edgelist,df_year, on='paper_id')\n",
    "df_numeric.fillna(0.2, inplace = True)\n",
    "\n",
    "# Text feautures\n",
    "df_text = pd.read_csv('cleaned_abstracts.csv')\n",
    "df_text['abstract'].fillna('', inplace=True)"
   ]
  },
  {
   "attachments": {},
   "cell_type": "markdown",
   "metadata": {},
   "source": [
    "#### 1. Train data"
   ]
  },
  {
   "cell_type": "code",
   "execution_count": 4,
   "metadata": {},
   "outputs": [],
   "source": [
    "#####  Train data #####\n",
    "y_train = pd.read_csv(y_train_path, header=None)\n",
    "y_train.columns = ['paper_id','class']\n",
    "\n",
    "# merge 1\n",
    "merged_df = pd.merge(y_train, df_text, on=\"paper_id\", how=\"inner\")\n",
    "# merge 2\n",
    "df_train = pd.merge(merged_df, df_numeric, on=\"paper_id\", how=\"inner\")"
   ]
  },
  {
   "attachments": {},
   "cell_type": "markdown",
   "metadata": {},
   "source": [
    "#### 2. Test data"
   ]
  },
  {
   "cell_type": "code",
   "execution_count": 5,
   "metadata": {},
   "outputs": [],
   "source": [
    "#####  Test data #####\n",
    "test_papers = list()\n",
    "with open(test_path, \"r\") as f:\n",
    "    for line in f:\n",
    "        t = line.split(',')\n",
    "        test_papers.append(int(t[0]))\n",
    "\n",
    "# Merge text / numeric data\n",
    "df_all = pd.merge(df_text, df_numeric, on=\"paper_id\", how=\"inner\")\n",
    "\n",
    "# Find test data\n",
    "mask_test = df_all.index.isin(test_papers)\n",
    "df_test = df_all.loc[mask_test]"
   ]
  },
  {
   "attachments": {},
   "cell_type": "markdown",
   "metadata": {},
   "source": [
    "#### Pipeline"
   ]
  },
  {
   "cell_type": "code",
   "execution_count": 6,
   "metadata": {},
   "outputs": [],
   "source": [
    "class NumericFeaturesExtractor(BaseEstimator, TransformerMixin):\n",
    "    def __init__(self, columns):\n",
    "        self.columns = columns\n",
    "\n",
    "    def fit(self, X, y=None):\n",
    "        return self\n",
    "\n",
    "    def transform(self, X, y=None):\n",
    "        return X[self.columns].values"
   ]
  },
  {
   "cell_type": "code",
   "execution_count": 7,
   "metadata": {},
   "outputs": [],
   "source": [
    "class TextFeaturesExtractor(BaseEstimator, TransformerMixin):\n",
    "    def __init__(self, column):\n",
    "        self.column = column\n",
    "\n",
    "    def fit(self, X, y=None):\n",
    "        return self\n",
    "\n",
    "    def transform(self, X, y=None):\n",
    "        return X[self.column]"
   ]
  },
  {
   "cell_type": "code",
   "execution_count": 8,
   "metadata": {},
   "outputs": [],
   "source": [
    "# Assuming df_train is your dataframe and y_train is your target variable\n",
    "numeric_columns = [\n",
    "    'class0_weight', 'class1_weight', 'class2_weight', 'class3_weight', 'class4_weight','year' \n",
    "]"
   ]
  },
  {
   "cell_type": "code",
   "execution_count": 9,
   "metadata": {},
   "outputs": [],
   "source": [
    "# Create a FeatureUnion object\n",
    "feature_union = FeatureUnion(\n",
    "    transformer_list=[\n",
    "        ('tfidf', Pipeline([\n",
    "            ('text_selector', TextFeaturesExtractor(column='abstract')),\n",
    "            ('vectorizer', TfidfVectorizer(analyzer='word', stop_words='english'))\n",
    "        ])),  # Text features\n",
    "        ('numeric', NumericFeaturesExtractor(columns=numeric_columns))  # Numeric features\n",
    "    ]\n",
    ")\n",
    "\n",
    "# Create a pipeline with FeatureUnion and LightGBM\n",
    "pipeline = Pipeline(\n",
    "    steps=[\n",
    "        ('feature_union', feature_union),\n",
    "        ('classifier', LGBMClassifier(objective='multiclass', num_classes=5))\n",
    "    ]\n",
    ")"
   ]
  },
  {
   "attachments": {},
   "cell_type": "markdown",
   "metadata": {},
   "source": [
    "#### Without Grid Search"
   ]
  },
  {
   "cell_type": "code",
   "execution_count": 94,
   "metadata": {},
   "outputs": [
    {
     "data": {
      "text/html": [
       "<style>#sk-container-id-3 {color: black;background-color: white;}#sk-container-id-3 pre{padding: 0;}#sk-container-id-3 div.sk-toggleable {background-color: white;}#sk-container-id-3 label.sk-toggleable__label {cursor: pointer;display: block;width: 100%;margin-bottom: 0;padding: 0.3em;box-sizing: border-box;text-align: center;}#sk-container-id-3 label.sk-toggleable__label-arrow:before {content: \"▸\";float: left;margin-right: 0.25em;color: #696969;}#sk-container-id-3 label.sk-toggleable__label-arrow:hover:before {color: black;}#sk-container-id-3 div.sk-estimator:hover label.sk-toggleable__label-arrow:before {color: black;}#sk-container-id-3 div.sk-toggleable__content {max-height: 0;max-width: 0;overflow: hidden;text-align: left;background-color: #f0f8ff;}#sk-container-id-3 div.sk-toggleable__content pre {margin: 0.2em;color: black;border-radius: 0.25em;background-color: #f0f8ff;}#sk-container-id-3 input.sk-toggleable__control:checked~div.sk-toggleable__content {max-height: 200px;max-width: 100%;overflow: auto;}#sk-container-id-3 input.sk-toggleable__control:checked~label.sk-toggleable__label-arrow:before {content: \"▾\";}#sk-container-id-3 div.sk-estimator input.sk-toggleable__control:checked~label.sk-toggleable__label {background-color: #d4ebff;}#sk-container-id-3 div.sk-label input.sk-toggleable__control:checked~label.sk-toggleable__label {background-color: #d4ebff;}#sk-container-id-3 input.sk-hidden--visually {border: 0;clip: rect(1px 1px 1px 1px);clip: rect(1px, 1px, 1px, 1px);height: 1px;margin: -1px;overflow: hidden;padding: 0;position: absolute;width: 1px;}#sk-container-id-3 div.sk-estimator {font-family: monospace;background-color: #f0f8ff;border: 1px dotted black;border-radius: 0.25em;box-sizing: border-box;margin-bottom: 0.5em;}#sk-container-id-3 div.sk-estimator:hover {background-color: #d4ebff;}#sk-container-id-3 div.sk-parallel-item::after {content: \"\";width: 100%;border-bottom: 1px solid gray;flex-grow: 1;}#sk-container-id-3 div.sk-label:hover label.sk-toggleable__label {background-color: #d4ebff;}#sk-container-id-3 div.sk-serial::before {content: \"\";position: absolute;border-left: 1px solid gray;box-sizing: border-box;top: 0;bottom: 0;left: 50%;z-index: 0;}#sk-container-id-3 div.sk-serial {display: flex;flex-direction: column;align-items: center;background-color: white;padding-right: 0.2em;padding-left: 0.2em;position: relative;}#sk-container-id-3 div.sk-item {position: relative;z-index: 1;}#sk-container-id-3 div.sk-parallel {display: flex;align-items: stretch;justify-content: center;background-color: white;position: relative;}#sk-container-id-3 div.sk-item::before, #sk-container-id-3 div.sk-parallel-item::before {content: \"\";position: absolute;border-left: 1px solid gray;box-sizing: border-box;top: 0;bottom: 0;left: 50%;z-index: -1;}#sk-container-id-3 div.sk-parallel-item {display: flex;flex-direction: column;z-index: 1;position: relative;background-color: white;}#sk-container-id-3 div.sk-parallel-item:first-child::after {align-self: flex-end;width: 50%;}#sk-container-id-3 div.sk-parallel-item:last-child::after {align-self: flex-start;width: 50%;}#sk-container-id-3 div.sk-parallel-item:only-child::after {width: 0;}#sk-container-id-3 div.sk-dashed-wrapped {border: 1px dashed gray;margin: 0 0.4em 0.5em 0.4em;box-sizing: border-box;padding-bottom: 0.4em;background-color: white;}#sk-container-id-3 div.sk-label label {font-family: monospace;font-weight: bold;display: inline-block;line-height: 1.2em;}#sk-container-id-3 div.sk-label-container {text-align: center;}#sk-container-id-3 div.sk-container {/* jupyter's `normalize.less` sets `[hidden] { display: none; }` but bootstrap.min.css set `[hidden] { display: none !important; }` so we also need the `!important` here to be able to override the default hidden behavior on the sphinx rendered scikit-learn.org. See: https://github.com/scikit-learn/scikit-learn/issues/21755 */display: inline-block !important;position: relative;}#sk-container-id-3 div.sk-text-repr-fallback {display: none;}</style><div id=\"sk-container-id-3\" class=\"sk-top-container\"><div class=\"sk-text-repr-fallback\"><pre>Pipeline(steps=[(&#x27;feature_union&#x27;,\n",
       "                 FeatureUnion(transformer_list=[(&#x27;tfidf&#x27;,\n",
       "                                                 Pipeline(steps=[(&#x27;text_selector&#x27;,\n",
       "                                                                  TextFeaturesExtractor(column=&#x27;abstract&#x27;)),\n",
       "                                                                 (&#x27;vectorizer&#x27;,\n",
       "                                                                  TfidfVectorizer(stop_words=&#x27;english&#x27;))])),\n",
       "                                                (&#x27;numeric&#x27;,\n",
       "                                                 NumericFeaturesExtractor(columns=[&#x27;class0_weight&#x27;,\n",
       "                                                                                   &#x27;class1_weight&#x27;,\n",
       "                                                                                   &#x27;class2_weight&#x27;,\n",
       "                                                                                   &#x27;class3_weight&#x27;,\n",
       "                                                                                   &#x27;class4_weight&#x27;,\n",
       "                                                                                   &#x27;year&#x27;]))])),\n",
       "                (&#x27;classifier&#x27;,\n",
       "                 LGBMClassifier(num_classes=5, objective=&#x27;multiclass&#x27;))])</pre><b>In a Jupyter environment, please rerun this cell to show the HTML representation or trust the notebook. <br />On GitHub, the HTML representation is unable to render, please try loading this page with nbviewer.org.</b></div><div class=\"sk-container\" hidden><div class=\"sk-item sk-dashed-wrapped\"><div class=\"sk-label-container\"><div class=\"sk-label sk-toggleable\"><input class=\"sk-toggleable__control sk-hidden--visually\" id=\"sk-estimator-id-13\" type=\"checkbox\" ><label for=\"sk-estimator-id-13\" class=\"sk-toggleable__label sk-toggleable__label-arrow\">Pipeline</label><div class=\"sk-toggleable__content\"><pre>Pipeline(steps=[(&#x27;feature_union&#x27;,\n",
       "                 FeatureUnion(transformer_list=[(&#x27;tfidf&#x27;,\n",
       "                                                 Pipeline(steps=[(&#x27;text_selector&#x27;,\n",
       "                                                                  TextFeaturesExtractor(column=&#x27;abstract&#x27;)),\n",
       "                                                                 (&#x27;vectorizer&#x27;,\n",
       "                                                                  TfidfVectorizer(stop_words=&#x27;english&#x27;))])),\n",
       "                                                (&#x27;numeric&#x27;,\n",
       "                                                 NumericFeaturesExtractor(columns=[&#x27;class0_weight&#x27;,\n",
       "                                                                                   &#x27;class1_weight&#x27;,\n",
       "                                                                                   &#x27;class2_weight&#x27;,\n",
       "                                                                                   &#x27;class3_weight&#x27;,\n",
       "                                                                                   &#x27;class4_weight&#x27;,\n",
       "                                                                                   &#x27;year&#x27;]))])),\n",
       "                (&#x27;classifier&#x27;,\n",
       "                 LGBMClassifier(num_classes=5, objective=&#x27;multiclass&#x27;))])</pre></div></div></div><div class=\"sk-serial\"><div class=\"sk-item sk-dashed-wrapped\"><div class=\"sk-label-container\"><div class=\"sk-label sk-toggleable\"><input class=\"sk-toggleable__control sk-hidden--visually\" id=\"sk-estimator-id-14\" type=\"checkbox\" ><label for=\"sk-estimator-id-14\" class=\"sk-toggleable__label sk-toggleable__label-arrow\">feature_union: FeatureUnion</label><div class=\"sk-toggleable__content\"><pre>FeatureUnion(transformer_list=[(&#x27;tfidf&#x27;,\n",
       "                                Pipeline(steps=[(&#x27;text_selector&#x27;,\n",
       "                                                 TextFeaturesExtractor(column=&#x27;abstract&#x27;)),\n",
       "                                                (&#x27;vectorizer&#x27;,\n",
       "                                                 TfidfVectorizer(stop_words=&#x27;english&#x27;))])),\n",
       "                               (&#x27;numeric&#x27;,\n",
       "                                NumericFeaturesExtractor(columns=[&#x27;class0_weight&#x27;,\n",
       "                                                                  &#x27;class1_weight&#x27;,\n",
       "                                                                  &#x27;class2_weight&#x27;,\n",
       "                                                                  &#x27;class3_weight&#x27;,\n",
       "                                                                  &#x27;class4_weight&#x27;,\n",
       "                                                                  &#x27;year&#x27;]))])</pre></div></div></div><div class=\"sk-parallel\"><div class=\"sk-parallel-item\"><div class=\"sk-item\"><div class=\"sk-label-container\"><div class=\"sk-label sk-toggleable\"><label>tfidf</label></div></div><div class=\"sk-serial\"><div class=\"sk-item\"><div class=\"sk-serial\"><div class=\"sk-item\"><div class=\"sk-estimator sk-toggleable\"><input class=\"sk-toggleable__control sk-hidden--visually\" id=\"sk-estimator-id-15\" type=\"checkbox\" ><label for=\"sk-estimator-id-15\" class=\"sk-toggleable__label sk-toggleable__label-arrow\">TextFeaturesExtractor</label><div class=\"sk-toggleable__content\"><pre>TextFeaturesExtractor(column=&#x27;abstract&#x27;)</pre></div></div></div><div class=\"sk-item\"><div class=\"sk-estimator sk-toggleable\"><input class=\"sk-toggleable__control sk-hidden--visually\" id=\"sk-estimator-id-16\" type=\"checkbox\" ><label for=\"sk-estimator-id-16\" class=\"sk-toggleable__label sk-toggleable__label-arrow\">TfidfVectorizer</label><div class=\"sk-toggleable__content\"><pre>TfidfVectorizer(stop_words=&#x27;english&#x27;)</pre></div></div></div></div></div></div></div></div><div class=\"sk-parallel-item\"><div class=\"sk-item\"><div class=\"sk-label-container\"><div class=\"sk-label sk-toggleable\"><label>numeric</label></div></div><div class=\"sk-serial\"><div class=\"sk-item\"><div class=\"sk-estimator sk-toggleable\"><input class=\"sk-toggleable__control sk-hidden--visually\" id=\"sk-estimator-id-17\" type=\"checkbox\" ><label for=\"sk-estimator-id-17\" class=\"sk-toggleable__label sk-toggleable__label-arrow\">NumericFeaturesExtractor</label><div class=\"sk-toggleable__content\"><pre>NumericFeaturesExtractor(columns=[&#x27;class0_weight&#x27;, &#x27;class1_weight&#x27;,\n",
       "                                  &#x27;class2_weight&#x27;, &#x27;class3_weight&#x27;,\n",
       "                                  &#x27;class4_weight&#x27;, &#x27;year&#x27;])</pre></div></div></div></div></div></div></div></div><div class=\"sk-item\"><div class=\"sk-estimator sk-toggleable\"><input class=\"sk-toggleable__control sk-hidden--visually\" id=\"sk-estimator-id-18\" type=\"checkbox\" ><label for=\"sk-estimator-id-18\" class=\"sk-toggleable__label sk-toggleable__label-arrow\">LGBMClassifier</label><div class=\"sk-toggleable__content\"><pre>LGBMClassifier(num_classes=5, objective=&#x27;multiclass&#x27;)</pre></div></div></div></div></div></div></div>"
      ],
      "text/plain": [
       "Pipeline(steps=[('feature_union',\n",
       "                 FeatureUnion(transformer_list=[('tfidf',\n",
       "                                                 Pipeline(steps=[('text_selector',\n",
       "                                                                  TextFeaturesExtractor(column='abstract')),\n",
       "                                                                 ('vectorizer',\n",
       "                                                                  TfidfVectorizer(stop_words='english'))])),\n",
       "                                                ('numeric',\n",
       "                                                 NumericFeaturesExtractor(columns=['class0_weight',\n",
       "                                                                                   'class1_weight',\n",
       "                                                                                   'class2_weight',\n",
       "                                                                                   'class3_weight',\n",
       "                                                                                   'class4_weight',\n",
       "                                                                                   'year']))])),\n",
       "                ('classifier',\n",
       "                 LGBMClassifier(num_classes=5, objective='multiclass'))])"
      ]
     },
     "execution_count": 94,
     "metadata": {},
     "output_type": "execute_result"
    }
   ],
   "source": [
    "# Fit the pipeline to your data\n",
    "pipeline.fit(df_train, y_train['class'].values)"
   ]
  },
  {
   "cell_type": "code",
   "execution_count": 96,
   "metadata": {},
   "outputs": [],
   "source": [
    "# Predict probabilities for each class\n",
    "y_pred = pipeline.predict_proba(df_test)"
   ]
  },
  {
   "cell_type": "code",
   "execution_count": 97,
   "metadata": {},
   "outputs": [],
   "source": [
    "# Write predictions to a file\n",
    "with open('sample_submission.csv', 'w') as csvfile:\n",
    "    writer = csv.writer(csvfile, delimiter=',')\n",
    "    lst = list()\n",
    "    for i in range(5):\n",
    "        lst.append('class_'+str(i))\n",
    "    lst.insert(0, \"paperID\")\n",
    "    writer.writerow(lst)\n",
    "    for i,test_paper in enumerate(test_papers):\n",
    "        lst = y_pred[i,:].tolist()\n",
    "        lst.insert(0, test_paper)\n",
    "        writer.writerow(lst)"
   ]
  },
  {
   "attachments": {},
   "cell_type": "markdown",
   "metadata": {},
   "source": [
    "#### With Grid Search"
   ]
  },
  {
   "cell_type": "code",
   "execution_count": 10,
   "metadata": {},
   "outputs": [],
   "source": [
    "param_grid = {\n",
    "    'feature_union__tfidf__vectorizer__max_df': [0.5, 0.75, 1.0],\n",
    "    'classifier__n_estimators': [50, 100, 200],\n",
    "    'classifier__learning_rate': [0.01, 0.05, 0.1],\n",
    "    'classifier__num_leaves': [30, 50, 100],\n",
    "    'classifier__min_child_samples': [10, 20, 30],\n",
    "}\n",
    "\n",
    "grid_search = GridSearchCV(\n",
    "    estimator=pipeline,\n",
    "    param_grid=param_grid,\n",
    "    cv=2,          # Number of cross-validation folds\n",
    "    n_jobs=-1,     # Use all available CPU cores\n",
    "    verbose=10,\n",
    ")\n"
   ]
  },
  {
   "cell_type": "code",
   "execution_count": 11,
   "metadata": {},
   "outputs": [
    {
     "name": "stdout",
     "output_type": "stream",
     "text": [
      "Fitting 2 folds for each of 243 candidates, totalling 486 fits\n"
     ]
    },
    {
     "data": {
      "text/html": [
       "<style>#sk-container-id-1 {color: black;background-color: white;}#sk-container-id-1 pre{padding: 0;}#sk-container-id-1 div.sk-toggleable {background-color: white;}#sk-container-id-1 label.sk-toggleable__label {cursor: pointer;display: block;width: 100%;margin-bottom: 0;padding: 0.3em;box-sizing: border-box;text-align: center;}#sk-container-id-1 label.sk-toggleable__label-arrow:before {content: \"▸\";float: left;margin-right: 0.25em;color: #696969;}#sk-container-id-1 label.sk-toggleable__label-arrow:hover:before {color: black;}#sk-container-id-1 div.sk-estimator:hover label.sk-toggleable__label-arrow:before {color: black;}#sk-container-id-1 div.sk-toggleable__content {max-height: 0;max-width: 0;overflow: hidden;text-align: left;background-color: #f0f8ff;}#sk-container-id-1 div.sk-toggleable__content pre {margin: 0.2em;color: black;border-radius: 0.25em;background-color: #f0f8ff;}#sk-container-id-1 input.sk-toggleable__control:checked~div.sk-toggleable__content {max-height: 200px;max-width: 100%;overflow: auto;}#sk-container-id-1 input.sk-toggleable__control:checked~label.sk-toggleable__label-arrow:before {content: \"▾\";}#sk-container-id-1 div.sk-estimator input.sk-toggleable__control:checked~label.sk-toggleable__label {background-color: #d4ebff;}#sk-container-id-1 div.sk-label input.sk-toggleable__control:checked~label.sk-toggleable__label {background-color: #d4ebff;}#sk-container-id-1 input.sk-hidden--visually {border: 0;clip: rect(1px 1px 1px 1px);clip: rect(1px, 1px, 1px, 1px);height: 1px;margin: -1px;overflow: hidden;padding: 0;position: absolute;width: 1px;}#sk-container-id-1 div.sk-estimator {font-family: monospace;background-color: #f0f8ff;border: 1px dotted black;border-radius: 0.25em;box-sizing: border-box;margin-bottom: 0.5em;}#sk-container-id-1 div.sk-estimator:hover {background-color: #d4ebff;}#sk-container-id-1 div.sk-parallel-item::after {content: \"\";width: 100%;border-bottom: 1px solid gray;flex-grow: 1;}#sk-container-id-1 div.sk-label:hover label.sk-toggleable__label {background-color: #d4ebff;}#sk-container-id-1 div.sk-serial::before {content: \"\";position: absolute;border-left: 1px solid gray;box-sizing: border-box;top: 0;bottom: 0;left: 50%;z-index: 0;}#sk-container-id-1 div.sk-serial {display: flex;flex-direction: column;align-items: center;background-color: white;padding-right: 0.2em;padding-left: 0.2em;position: relative;}#sk-container-id-1 div.sk-item {position: relative;z-index: 1;}#sk-container-id-1 div.sk-parallel {display: flex;align-items: stretch;justify-content: center;background-color: white;position: relative;}#sk-container-id-1 div.sk-item::before, #sk-container-id-1 div.sk-parallel-item::before {content: \"\";position: absolute;border-left: 1px solid gray;box-sizing: border-box;top: 0;bottom: 0;left: 50%;z-index: -1;}#sk-container-id-1 div.sk-parallel-item {display: flex;flex-direction: column;z-index: 1;position: relative;background-color: white;}#sk-container-id-1 div.sk-parallel-item:first-child::after {align-self: flex-end;width: 50%;}#sk-container-id-1 div.sk-parallel-item:last-child::after {align-self: flex-start;width: 50%;}#sk-container-id-1 div.sk-parallel-item:only-child::after {width: 0;}#sk-container-id-1 div.sk-dashed-wrapped {border: 1px dashed gray;margin: 0 0.4em 0.5em 0.4em;box-sizing: border-box;padding-bottom: 0.4em;background-color: white;}#sk-container-id-1 div.sk-label label {font-family: monospace;font-weight: bold;display: inline-block;line-height: 1.2em;}#sk-container-id-1 div.sk-label-container {text-align: center;}#sk-container-id-1 div.sk-container {/* jupyter's `normalize.less` sets `[hidden] { display: none; }` but bootstrap.min.css set `[hidden] { display: none !important; }` so we also need the `!important` here to be able to override the default hidden behavior on the sphinx rendered scikit-learn.org. See: https://github.com/scikit-learn/scikit-learn/issues/21755 */display: inline-block !important;position: relative;}#sk-container-id-1 div.sk-text-repr-fallback {display: none;}</style><div id=\"sk-container-id-1\" class=\"sk-top-container\"><div class=\"sk-text-repr-fallback\"><pre>GridSearchCV(cv=2,\n",
       "             estimator=Pipeline(steps=[(&#x27;feature_union&#x27;,\n",
       "                                        FeatureUnion(transformer_list=[(&#x27;tfidf&#x27;,\n",
       "                                                                        Pipeline(steps=[(&#x27;text_selector&#x27;,\n",
       "                                                                                         TextFeaturesExtractor(column=&#x27;abstract&#x27;)),\n",
       "                                                                                        (&#x27;vectorizer&#x27;,\n",
       "                                                                                         TfidfVectorizer(stop_words=&#x27;english&#x27;))])),\n",
       "                                                                       (&#x27;numeric&#x27;,\n",
       "                                                                        NumericFeaturesExtractor(columns=[&#x27;class0_weight&#x27;,\n",
       "                                                                                                          &#x27;class1_weight&#x27;,\n",
       "                                                                                                          &#x27;class2_weight&#x27;,\n",
       "                                                                                                          &#x27;class3_weight&#x27;,\n",
       "                                                                                                          &#x27;class4_weight&#x27;,\n",
       "                                                                                                          &#x27;year&#x27;]))])),\n",
       "                                       (&#x27;classifier&#x27;,\n",
       "                                        LGBMClassifier(num_classes=5,\n",
       "                                                       objective=&#x27;multiclass&#x27;))]),\n",
       "             n_jobs=-1,\n",
       "             param_grid={&#x27;classifier__learning_rate&#x27;: [0.01, 0.05, 0.1],\n",
       "                         &#x27;classifier__min_child_samples&#x27;: [10, 20, 30],\n",
       "                         &#x27;classifier__n_estimators&#x27;: [50, 100, 200],\n",
       "                         &#x27;classifier__num_leaves&#x27;: [30, 50, 100],\n",
       "                         &#x27;feature_union__tfidf__vectorizer__max_df&#x27;: [0.5, 0.75,\n",
       "                                                                      1.0]},\n",
       "             verbose=10)</pre><b>In a Jupyter environment, please rerun this cell to show the HTML representation or trust the notebook. <br />On GitHub, the HTML representation is unable to render, please try loading this page with nbviewer.org.</b></div><div class=\"sk-container\" hidden><div class=\"sk-item sk-dashed-wrapped\"><div class=\"sk-label-container\"><div class=\"sk-label sk-toggleable\"><input class=\"sk-toggleable__control sk-hidden--visually\" id=\"sk-estimator-id-1\" type=\"checkbox\" ><label for=\"sk-estimator-id-1\" class=\"sk-toggleable__label sk-toggleable__label-arrow\">GridSearchCV</label><div class=\"sk-toggleable__content\"><pre>GridSearchCV(cv=2,\n",
       "             estimator=Pipeline(steps=[(&#x27;feature_union&#x27;,\n",
       "                                        FeatureUnion(transformer_list=[(&#x27;tfidf&#x27;,\n",
       "                                                                        Pipeline(steps=[(&#x27;text_selector&#x27;,\n",
       "                                                                                         TextFeaturesExtractor(column=&#x27;abstract&#x27;)),\n",
       "                                                                                        (&#x27;vectorizer&#x27;,\n",
       "                                                                                         TfidfVectorizer(stop_words=&#x27;english&#x27;))])),\n",
       "                                                                       (&#x27;numeric&#x27;,\n",
       "                                                                        NumericFeaturesExtractor(columns=[&#x27;class0_weight&#x27;,\n",
       "                                                                                                          &#x27;class1_weight&#x27;,\n",
       "                                                                                                          &#x27;class2_weight&#x27;,\n",
       "                                                                                                          &#x27;class3_weight&#x27;,\n",
       "                                                                                                          &#x27;class4_weight&#x27;,\n",
       "                                                                                                          &#x27;year&#x27;]))])),\n",
       "                                       (&#x27;classifier&#x27;,\n",
       "                                        LGBMClassifier(num_classes=5,\n",
       "                                                       objective=&#x27;multiclass&#x27;))]),\n",
       "             n_jobs=-1,\n",
       "             param_grid={&#x27;classifier__learning_rate&#x27;: [0.01, 0.05, 0.1],\n",
       "                         &#x27;classifier__min_child_samples&#x27;: [10, 20, 30],\n",
       "                         &#x27;classifier__n_estimators&#x27;: [50, 100, 200],\n",
       "                         &#x27;classifier__num_leaves&#x27;: [30, 50, 100],\n",
       "                         &#x27;feature_union__tfidf__vectorizer__max_df&#x27;: [0.5, 0.75,\n",
       "                                                                      1.0]},\n",
       "             verbose=10)</pre></div></div></div><div class=\"sk-parallel\"><div class=\"sk-parallel-item\"><div class=\"sk-item\"><div class=\"sk-label-container\"><div class=\"sk-label sk-toggleable\"><input class=\"sk-toggleable__control sk-hidden--visually\" id=\"sk-estimator-id-2\" type=\"checkbox\" ><label for=\"sk-estimator-id-2\" class=\"sk-toggleable__label sk-toggleable__label-arrow\">estimator: Pipeline</label><div class=\"sk-toggleable__content\"><pre>Pipeline(steps=[(&#x27;feature_union&#x27;,\n",
       "                 FeatureUnion(transformer_list=[(&#x27;tfidf&#x27;,\n",
       "                                                 Pipeline(steps=[(&#x27;text_selector&#x27;,\n",
       "                                                                  TextFeaturesExtractor(column=&#x27;abstract&#x27;)),\n",
       "                                                                 (&#x27;vectorizer&#x27;,\n",
       "                                                                  TfidfVectorizer(stop_words=&#x27;english&#x27;))])),\n",
       "                                                (&#x27;numeric&#x27;,\n",
       "                                                 NumericFeaturesExtractor(columns=[&#x27;class0_weight&#x27;,\n",
       "                                                                                   &#x27;class1_weight&#x27;,\n",
       "                                                                                   &#x27;class2_weight&#x27;,\n",
       "                                                                                   &#x27;class3_weight&#x27;,\n",
       "                                                                                   &#x27;class4_weight&#x27;,\n",
       "                                                                                   &#x27;year&#x27;]))])),\n",
       "                (&#x27;classifier&#x27;,\n",
       "                 LGBMClassifier(num_classes=5, objective=&#x27;multiclass&#x27;))])</pre></div></div></div><div class=\"sk-serial\"><div class=\"sk-item\"><div class=\"sk-serial\"><div class=\"sk-item sk-dashed-wrapped\"><div class=\"sk-label-container\"><div class=\"sk-label sk-toggleable\"><input class=\"sk-toggleable__control sk-hidden--visually\" id=\"sk-estimator-id-3\" type=\"checkbox\" ><label for=\"sk-estimator-id-3\" class=\"sk-toggleable__label sk-toggleable__label-arrow\">feature_union: FeatureUnion</label><div class=\"sk-toggleable__content\"><pre>FeatureUnion(transformer_list=[(&#x27;tfidf&#x27;,\n",
       "                                Pipeline(steps=[(&#x27;text_selector&#x27;,\n",
       "                                                 TextFeaturesExtractor(column=&#x27;abstract&#x27;)),\n",
       "                                                (&#x27;vectorizer&#x27;,\n",
       "                                                 TfidfVectorizer(stop_words=&#x27;english&#x27;))])),\n",
       "                               (&#x27;numeric&#x27;,\n",
       "                                NumericFeaturesExtractor(columns=[&#x27;class0_weight&#x27;,\n",
       "                                                                  &#x27;class1_weight&#x27;,\n",
       "                                                                  &#x27;class2_weight&#x27;,\n",
       "                                                                  &#x27;class3_weight&#x27;,\n",
       "                                                                  &#x27;class4_weight&#x27;,\n",
       "                                                                  &#x27;year&#x27;]))])</pre></div></div></div><div class=\"sk-parallel\"><div class=\"sk-parallel-item\"><div class=\"sk-item\"><div class=\"sk-label-container\"><div class=\"sk-label sk-toggleable\"><label>tfidf</label></div></div><div class=\"sk-serial\"><div class=\"sk-item\"><div class=\"sk-serial\"><div class=\"sk-item\"><div class=\"sk-estimator sk-toggleable\"><input class=\"sk-toggleable__control sk-hidden--visually\" id=\"sk-estimator-id-4\" type=\"checkbox\" ><label for=\"sk-estimator-id-4\" class=\"sk-toggleable__label sk-toggleable__label-arrow\">TextFeaturesExtractor</label><div class=\"sk-toggleable__content\"><pre>TextFeaturesExtractor(column=&#x27;abstract&#x27;)</pre></div></div></div><div class=\"sk-item\"><div class=\"sk-estimator sk-toggleable\"><input class=\"sk-toggleable__control sk-hidden--visually\" id=\"sk-estimator-id-5\" type=\"checkbox\" ><label for=\"sk-estimator-id-5\" class=\"sk-toggleable__label sk-toggleable__label-arrow\">TfidfVectorizer</label><div class=\"sk-toggleable__content\"><pre>TfidfVectorizer(stop_words=&#x27;english&#x27;)</pre></div></div></div></div></div></div></div></div><div class=\"sk-parallel-item\"><div class=\"sk-item\"><div class=\"sk-label-container\"><div class=\"sk-label sk-toggleable\"><label>numeric</label></div></div><div class=\"sk-serial\"><div class=\"sk-item\"><div class=\"sk-estimator sk-toggleable\"><input class=\"sk-toggleable__control sk-hidden--visually\" id=\"sk-estimator-id-6\" type=\"checkbox\" ><label for=\"sk-estimator-id-6\" class=\"sk-toggleable__label sk-toggleable__label-arrow\">NumericFeaturesExtractor</label><div class=\"sk-toggleable__content\"><pre>NumericFeaturesExtractor(columns=[&#x27;class0_weight&#x27;, &#x27;class1_weight&#x27;,\n",
       "                                  &#x27;class2_weight&#x27;, &#x27;class3_weight&#x27;,\n",
       "                                  &#x27;class4_weight&#x27;, &#x27;year&#x27;])</pre></div></div></div></div></div></div></div></div><div class=\"sk-item\"><div class=\"sk-estimator sk-toggleable\"><input class=\"sk-toggleable__control sk-hidden--visually\" id=\"sk-estimator-id-7\" type=\"checkbox\" ><label for=\"sk-estimator-id-7\" class=\"sk-toggleable__label sk-toggleable__label-arrow\">LGBMClassifier</label><div class=\"sk-toggleable__content\"><pre>LGBMClassifier(num_classes=5, objective=&#x27;multiclass&#x27;)</pre></div></div></div></div></div></div></div></div></div></div></div></div>"
      ],
      "text/plain": [
       "GridSearchCV(cv=2,\n",
       "             estimator=Pipeline(steps=[('feature_union',\n",
       "                                        FeatureUnion(transformer_list=[('tfidf',\n",
       "                                                                        Pipeline(steps=[('text_selector',\n",
       "                                                                                         TextFeaturesExtractor(column='abstract')),\n",
       "                                                                                        ('vectorizer',\n",
       "                                                                                         TfidfVectorizer(stop_words='english'))])),\n",
       "                                                                       ('numeric',\n",
       "                                                                        NumericFeaturesExtractor(columns=['class0_weight',\n",
       "                                                                                                          'class1_weight',\n",
       "                                                                                                          'class2_weight',\n",
       "                                                                                                          'class3_weight',\n",
       "                                                                                                          'class4_weight',\n",
       "                                                                                                          'year']))])),\n",
       "                                       ('classifier',\n",
       "                                        LGBMClassifier(num_classes=5,\n",
       "                                                       objective='multiclass'))]),\n",
       "             n_jobs=-1,\n",
       "             param_grid={'classifier__learning_rate': [0.01, 0.05, 0.1],\n",
       "                         'classifier__min_child_samples': [10, 20, 30],\n",
       "                         'classifier__n_estimators': [50, 100, 200],\n",
       "                         'classifier__num_leaves': [30, 50, 100],\n",
       "                         'feature_union__tfidf__vectorizer__max_df': [0.5, 0.75,\n",
       "                                                                      1.0]},\n",
       "             verbose=10)"
      ]
     },
     "execution_count": 11,
     "metadata": {},
     "output_type": "execute_result"
    }
   ],
   "source": [
    "#### Use Grid Search\n",
    "grid_search.fit(df_train, y_train['class'].values)"
   ]
  },
  {
   "cell_type": "code",
   "execution_count": 12,
   "metadata": {},
   "outputs": [
    {
     "name": "stdout",
     "output_type": "stream",
     "text": [
      "Best parameters found:  {'classifier__learning_rate': 0.1, 'classifier__min_child_samples': 20, 'classifier__n_estimators': 200, 'classifier__num_leaves': 50, 'feature_union__tfidf__vectorizer__max_df': 0.5}\n",
      "Best score found:  0.8974206786805419\n"
     ]
    }
   ],
   "source": [
    "print(\"Best parameters found: \", grid_search.best_params_)\n",
    "print(\"Best score found: \", grid_search.best_score_)"
   ]
  },
  {
   "cell_type": "code",
   "execution_count": 13,
   "metadata": {},
   "outputs": [],
   "source": [
    "# Predict probabilities for each class using the best estimator\n",
    "best_estimator = grid_search.best_estimator_\n",
    "y_pred = best_estimator.predict_proba(df_test)"
   ]
  },
  {
   "cell_type": "code",
   "execution_count": 14,
   "metadata": {},
   "outputs": [],
   "source": [
    "# Write predictions to a file\n",
    "with open('sample_submission_grid.csv', 'w') as csvfile:\n",
    "    writer = csv.writer(csvfile, delimiter=',')\n",
    "    lst = list()\n",
    "    for i in range(5):\n",
    "        lst.append('class_'+str(i))\n",
    "    lst.insert(0, \"paperID\")\n",
    "    writer.writerow(lst)\n",
    "    for i,test_paper in enumerate(test_papers):\n",
    "        lst = y_pred[i,:].tolist()\n",
    "        lst.insert(0, test_paper)\n",
    "        writer.writerow(lst)"
   ]
  }
 ],
 "metadata": {
  "kernelspec": {
   "display_name": "Python 3",
   "language": "python",
   "name": "python3"
  },
  "language_info": {
   "codemirror_mode": {
    "name": "ipython",
    "version": 3
   },
   "file_extension": ".py",
   "mimetype": "text/x-python",
   "name": "python",
   "nbconvert_exporter": "python",
   "pygments_lexer": "ipython3",
   "version": "3.8.12"
  },
  "orig_nbformat": 4
 },
 "nbformat": 4,
 "nbformat_minor": 2
}
