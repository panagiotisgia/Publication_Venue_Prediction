{
 "cells": [
  {
   "cell_type": "code",
   "execution_count": 3,
   "metadata": {},
   "outputs": [
    {
     "name": "stderr",
     "output_type": "stream",
     "text": [
      "[nltk_data] Downloading package stopwords to\n",
      "[nltk_data]     C:\\Users\\panag\\AppData\\Roaming\\nltk_data...\n",
      "[nltk_data]   Package stopwords is already up-to-date!\n"
     ]
    }
   ],
   "source": [
    "import pandas as pd\n",
    "from pathlib import Path\n",
    "from bs4 import BeautifulSoup\n",
    "from unidecode import unidecode as unidecode_func\n",
    "import re\n",
    "import csv\n",
    "import nltk\n",
    "nltk.download('stopwords')\n",
    "from nltk.corpus import stopwords"
   ]
  },
  {
   "cell_type": "code",
   "execution_count": 4,
   "metadata": {},
   "outputs": [],
   "source": [
    "# Set the absolute path to your data directory\n",
    "data_directory = Path(\"E:/panag/Desktop/Ms Data Science/6 Quarter/Data Science Challenge/data_challenge_aueb_2023\")\n",
    "\n",
    "# Train data\n",
    "y_train_file = \"y_train.txt\"\n",
    "# Authors data\n",
    "authors_file = \"authors.txt\"\n",
    "# Abstract data\n",
    "abstract_file = \"abstract.txt\"\n",
    "# Test data\n",
    "test_file = \"test.txt\"\n",
    "# Year data\n",
    "year_file = \"year.txt\"\n",
    "\n",
    "y_train_path  = data_directory / y_train_file\n",
    "authors_path  = data_directory / authors_file\n",
    "abstract_path = data_directory / abstract_file\n",
    "test_path     = data_directory / test_file\n",
    "year_path     = data_directory / year_file"
   ]
  },
  {
   "attachments": {},
   "cell_type": "markdown",
   "metadata": {},
   "source": [
    "### Cleaning the abstracts"
   ]
  },
  {
   "attachments": {},
   "cell_type": "markdown",
   "metadata": {},
   "source": [
    "#### Create Authors list"
   ]
  },
  {
   "cell_type": "code",
   "execution_count": null,
   "metadata": {},
   "outputs": [],
   "source": [
    "# Read the 'authors.txt' file\n",
    "with open(authors_path, \"r\") as file:\n",
    "     lines = file.readlines()\n",
    "\n",
    "# Create the authors_dict\n",
    "authors_dict = {int(line.split('||')[0]): line.split('||')[1].strip() for line in lines}\n",
    "\n",
    "all_authors = []\n",
    "\n",
    "for authors in authors_dict.values():\n",
    "    for author in authors.split(','):\n",
    "        # Replace unicode characters\n",
    "        author = unidecode_func(author)\n",
    "        # Remove numerical values\n",
    "        author = re.sub(r'\\d+', '', author)\n",
    "        # Remove capital letters followed by a dot\n",
    "        author = re.sub(r'\\b[A-Z]\\. ?', '', author)\n",
    "        # Remove leading and trailing whitespaces\n",
    "        author = author.strip()\n",
    "        \n",
    "        if author:\n",
    "            all_authors.append(author)\n",
    "\n",
    "# Convert list to set\n",
    "all_authors = set(all_authors)"
   ]
  },
  {
   "attachments": {},
   "cell_type": "markdown",
   "metadata": {},
   "source": [
    "#### Useful Functions"
   ]
  },
  {
   "cell_type": "code",
   "execution_count": 25,
   "metadata": {},
   "outputs": [],
   "source": [
    "def remove_irrelevant_info(text):\n",
    "\n",
    "    ### Remove Math formulas ###\n",
    "    # Remove inline math formulas between single dollar signs ($...$)\n",
    "    text = re.sub(r'\\$[^$]*\\$', '', text)\n",
    "    # Remove display math formulas between double dollar signs ($$...$$)\n",
    "    text = re.sub(r'\\$\\$[^$]*\\$\\$', '', text)\n",
    "    # Remove math formulas between \\begin{equation} and \\end{equation}\n",
    "    text = re.sub(r'\\\\begin\\{equation\\}.*?\\\\end\\{equation\\}', '', text, flags=re.DOTALL)\n",
    "    # Remove math formulas between \\begin{align} and \\end{align}\n",
    "    text = re.sub(r'\\\\begin\\{align\\}.*?\\\\end\\{align\\}', '', text, flags=re.DOTALL)\n",
    "\n",
    "    # Remove email addresses\n",
    "    text = re.sub(r'\\S+@\\S+\\.\\S+', '', text)\n",
    "\n",
    "    # Remove URLs\n",
    "    text = re.sub(r'http\\S+', '', text)\n",
    "\n",
    "    # Remove HTML tags\n",
    "    soup = BeautifulSoup(text, 'html.parser')\n",
    "    text = soup.get_text()\n",
    "\n",
    "    # Remove numerical elements in () and []\n",
    "    text = re.sub(r'(\\(\\d+\\)|\\[\\d+\\])', '', text)\n",
    "\n",
    "    # Remove text elements in () --> ex. (a),(b),(i)\n",
    "    text = re.sub(r'\\(([a-f]|[ivx]+)\\)', '', text)\n",
    "\n",
    "    # Remove Authors First Names (ex. A., B., C.)\n",
    "    text = re.sub(r'\\b[A-Z]\\.', '', text)\n",
    "\n",
    "    # Remove text inside parentheses that has the expression et al.\n",
    "    text = re.sub(r'\\([^\\(\\)]*et al\\.[^\\(\\)]*\\)', '', text)\n",
    "\n",
    "    # Remove text with non-ASCII characters\n",
    "    text = re.sub(r'[^\\x00-\\x7F]+', '', text)\n",
    "\n",
    "    ##### Remove author names #####   ---- Not improved if any Authors removed\n",
    "    # Tokenize the text by splitting it at whitespace characters\n",
    "    tokens = text.split()\n",
    "    # Remove tokens that match author names\n",
    "    tokens = [token for token in tokens if token not in all_authors]\n",
    "    # Rejoin the tokens into a single string\n",
    "    text = ' '.join(tokens)\n",
    "\n",
    "    return text.strip()"
   ]
  },
  {
   "cell_type": "code",
   "execution_count": 198,
   "metadata": {},
   "outputs": [],
   "source": [
    "def export_dict_to_csv(data_dict, file_path):\n",
    "    with open(file_path, 'w', newline='', encoding='utf-8') as csvfile:\n",
    "        writer = csv.writer(csvfile)\n",
    "        writer.writerow(['paper_id', 'abstract'])\n",
    "        \n",
    "        for paper_id, abstract in data_dict.items():\n",
    "            writer.writerow([paper_id, abstract])"
   ]
  },
  {
   "attachments": {},
   "cell_type": "markdown",
   "metadata": {},
   "source": [
    "### Algorithm"
   ]
  },
  {
   "cell_type": "code",
   "execution_count": 6,
   "metadata": {},
   "outputs": [],
   "source": [
    "import pandas as pd\n",
    "import numpy as np\n",
    "from sklearn.base import BaseEstimator, TransformerMixin\n",
    "from sklearn.pipeline import FeatureUnion, Pipeline\n",
    "from sklearn.feature_extraction.text import TfidfVectorizer\n",
    "from lightgbm import LGBMClassifier\n",
    "from sklearn.preprocessing import MinMaxScaler\n",
    "from sklearn.model_selection import RandomizedSearchCV"
   ]
  },
  {
   "cell_type": "code",
   "execution_count": 7,
   "metadata": {},
   "outputs": [],
   "source": [
    "# Read abstracts of research papers\n",
    "abstracts = dict()\n",
    "with open(abstract_path, \"r\") as f:\n",
    "    for line in f:\n",
    "        #print(line)\n",
    "        t = line.split('||')\n",
    "        abstracts[int(t[0])] = t[1][:-1]\n",
    "\n",
    "# Read training data\n",
    "train_papers = list()\n",
    "y_train = list()\n",
    "with open(y_train_path, \"r\") as f:\n",
    "    for line in f:\n",
    "        t = line.split(',')\n",
    "        train_papers.append(int(t[0]))\n",
    "        y_train.append(t[1][:-1])\n",
    "\n",
    "# Read test data\n",
    "test_papers = list()\n",
    "with open(test_path, \"r\") as f:\n",
    "    for line in f:\n",
    "        t = line.split(',')\n",
    "        test_papers.append(int(t[0]))"
   ]
  },
  {
   "cell_type": "code",
   "execution_count": 26,
   "metadata": {},
   "outputs": [],
   "source": [
    "# Clean the abstract and export to csv\n",
    "\n",
    "cleaned_abstracts = {}\n",
    "for paper_id, abstract in abstracts.items():\n",
    "    cleaned_abstracts[paper_id] = remove_irrelevant_info(abstract)"
   ]
  },
  {
   "cell_type": "code",
   "execution_count": 167,
   "metadata": {},
   "outputs": [],
   "source": [
    "# Export to csv\n",
    "export_dict_to_csv(cleaned_abstracts, 'clean_abstracts.csv')"
   ]
  },
  {
   "cell_type": "code",
   "execution_count": 27,
   "metadata": {},
   "outputs": [],
   "source": [
    "# Import Numeric features\n",
    "df_edgelist = pd.read_csv('features_edgelist.csv')\n",
    "df_authors  = pd.read_csv('features_authors.csv')\n",
    "\n",
    "df_year = pd.read_csv(year_path, header=None)\n",
    "df_year.columns = ['paper_id','year']\n",
    "\n",
    "df_numeric = pd.merge(df_edgelist,df_authors, on='paper_id')\n",
    "# select only the 'class{}_weight' columns\n",
    "df_numeric = df_numeric.filter(regex='class\\d_weight')\n",
    "\n",
    "# Text feautures\n",
    "df_text = pd.DataFrame(list(cleaned_abstracts.values()))\n",
    "# replace the name of the first column\n",
    "df_text.columns = ['abstract']"
   ]
  },
  {
   "cell_type": "code",
   "execution_count": 28,
   "metadata": {},
   "outputs": [],
   "source": [
    "### Custom numeric #####\n",
    "df_numeric = pd.merge(df_edgelist,df_year, on='paper_id')"
   ]
  },
  {
   "cell_type": "code",
   "execution_count": 29,
   "metadata": {},
   "outputs": [],
   "source": [
    "df_all = pd.merge(df_text, df_numeric, left_index=True, right_index=True)\n",
    "\n",
    "# Split in train/test dataframe\n",
    "mask_train = df_all.index.isin(train_papers)\n",
    "mask_test = df_all.index.isin(test_papers)\n",
    "\n",
    "df_train = df_all.loc[mask_train]\n",
    "df_test = df_all.loc[mask_test]"
   ]
  },
  {
   "cell_type": "code",
   "execution_count": 30,
   "metadata": {},
   "outputs": [],
   "source": [
    "class NumericFeaturesExtractor(BaseEstimator, TransformerMixin):\n",
    "    def __init__(self, columns):\n",
    "        self.columns = columns\n",
    "\n",
    "    def fit(self, X, y=None):\n",
    "        return self\n",
    "\n",
    "    def transform(self, X, y=None):\n",
    "        return X[self.columns].values"
   ]
  },
  {
   "cell_type": "code",
   "execution_count": 31,
   "metadata": {},
   "outputs": [],
   "source": [
    "class TextFeaturesExtractor(BaseEstimator, TransformerMixin):\n",
    "    def __init__(self, column):\n",
    "        self.column = column\n",
    "\n",
    "    def fit(self, X, y=None):\n",
    "        return self\n",
    "\n",
    "    def transform(self, X, y=None):\n",
    "        return X[self.column]"
   ]
  },
  {
   "cell_type": "code",
   "execution_count": 99,
   "metadata": {},
   "outputs": [],
   "source": [
    "# Assuming df_train is your dataframe and y_train is your target variable\n",
    "numeric_columns = [\n",
    "    'class0_weight_x', 'class1_weight_x', 'class2_weight_x', 'class3_weight_x', 'class4_weight_x',\n",
    "    'class0_weight_y', 'class1_weight_y', 'class2_weight_y', 'class3_weight_y', 'class4_weight_y'\n",
    "]"
   ]
  },
  {
   "cell_type": "code",
   "execution_count": 32,
   "metadata": {},
   "outputs": [],
   "source": [
    "# Assuming df_train is your dataframe and y_train is your target variable\n",
    "numeric_columns = [\n",
    "    'class0_weight', 'class1_weight', 'class2_weight', 'class3_weight', 'class4_weight','year' \n",
    "]"
   ]
  },
  {
   "cell_type": "code",
   "execution_count": 227,
   "metadata": {},
   "outputs": [],
   "source": [
    "param_dist = {\n",
    "    'feature_union__tfidf__vectorizer__max_df': [0.5, 0.75, 1.0],\n",
    "    'feature_union__tfidf__vectorizer__ngram_range': [(1, 1), (1, 2), (1, 3)],\n",
    "    'classifier__n_estimators': [50, 100, 150, 200],\n",
    "    'classifier__learning_rate': [0.01, 0.05, 0.1, 0.2],\n",
    "    'classifier__num_leaves': [30, 50, 100],\n",
    "    'classifier__min_child_samples': [10, 20, 30],\n",
    "}\n",
    "\n",
    "random_search = RandomizedSearchCV(\n",
    "    estimator = pipeline,\n",
    "    param_distributions=param_dist,\n",
    "    n_iter=20,     # Number of random combinations to try\n",
    "    cv=3,          # Number of cross-validation folds\n",
    "    n_jobs=-1,     # Use all available CPU cores\n",
    "    verbose=2,\n",
    "    random_state=42,\n",
    ")"
   ]
  },
  {
   "cell_type": "code",
   "execution_count": 33,
   "metadata": {},
   "outputs": [],
   "source": [
    "# Create a FeatureUnion object\n",
    "feature_union = FeatureUnion(\n",
    "    transformer_list=[\n",
    "        ('tfidf', Pipeline([\n",
    "            ('text_selector', TextFeaturesExtractor(column='abstract')),\n",
    "            ('vectorizer', TfidfVectorizer(stop_words='english'))\n",
    "        ])),  # Text features\n",
    "        ('numeric', NumericFeaturesExtractor(columns=numeric_columns))  # Numeric features\n",
    "    ]\n",
    ")\n",
    "\n",
    "# Create a pipeline with FeatureUnion and LightGBM\n",
    "pipeline = Pipeline(\n",
    "    steps=[\n",
    "        ('feature_union', feature_union),\n",
    "        ('classifier', LGBMClassifier(objective='multiclass', num_classes=5))\n",
    "    ]\n",
    ")"
   ]
  },
  {
   "attachments": {},
   "cell_type": "markdown",
   "metadata": {},
   "source": [
    "#### Without Randomized Search"
   ]
  },
  {
   "cell_type": "code",
   "execution_count": 34,
   "metadata": {},
   "outputs": [
    {
     "data": {
      "text/html": [
       "<style>#sk-container-id-2 {color: black;background-color: white;}#sk-container-id-2 pre{padding: 0;}#sk-container-id-2 div.sk-toggleable {background-color: white;}#sk-container-id-2 label.sk-toggleable__label {cursor: pointer;display: block;width: 100%;margin-bottom: 0;padding: 0.3em;box-sizing: border-box;text-align: center;}#sk-container-id-2 label.sk-toggleable__label-arrow:before {content: \"▸\";float: left;margin-right: 0.25em;color: #696969;}#sk-container-id-2 label.sk-toggleable__label-arrow:hover:before {color: black;}#sk-container-id-2 div.sk-estimator:hover label.sk-toggleable__label-arrow:before {color: black;}#sk-container-id-2 div.sk-toggleable__content {max-height: 0;max-width: 0;overflow: hidden;text-align: left;background-color: #f0f8ff;}#sk-container-id-2 div.sk-toggleable__content pre {margin: 0.2em;color: black;border-radius: 0.25em;background-color: #f0f8ff;}#sk-container-id-2 input.sk-toggleable__control:checked~div.sk-toggleable__content {max-height: 200px;max-width: 100%;overflow: auto;}#sk-container-id-2 input.sk-toggleable__control:checked~label.sk-toggleable__label-arrow:before {content: \"▾\";}#sk-container-id-2 div.sk-estimator input.sk-toggleable__control:checked~label.sk-toggleable__label {background-color: #d4ebff;}#sk-container-id-2 div.sk-label input.sk-toggleable__control:checked~label.sk-toggleable__label {background-color: #d4ebff;}#sk-container-id-2 input.sk-hidden--visually {border: 0;clip: rect(1px 1px 1px 1px);clip: rect(1px, 1px, 1px, 1px);height: 1px;margin: -1px;overflow: hidden;padding: 0;position: absolute;width: 1px;}#sk-container-id-2 div.sk-estimator {font-family: monospace;background-color: #f0f8ff;border: 1px dotted black;border-radius: 0.25em;box-sizing: border-box;margin-bottom: 0.5em;}#sk-container-id-2 div.sk-estimator:hover {background-color: #d4ebff;}#sk-container-id-2 div.sk-parallel-item::after {content: \"\";width: 100%;border-bottom: 1px solid gray;flex-grow: 1;}#sk-container-id-2 div.sk-label:hover label.sk-toggleable__label {background-color: #d4ebff;}#sk-container-id-2 div.sk-serial::before {content: \"\";position: absolute;border-left: 1px solid gray;box-sizing: border-box;top: 0;bottom: 0;left: 50%;z-index: 0;}#sk-container-id-2 div.sk-serial {display: flex;flex-direction: column;align-items: center;background-color: white;padding-right: 0.2em;padding-left: 0.2em;position: relative;}#sk-container-id-2 div.sk-item {position: relative;z-index: 1;}#sk-container-id-2 div.sk-parallel {display: flex;align-items: stretch;justify-content: center;background-color: white;position: relative;}#sk-container-id-2 div.sk-item::before, #sk-container-id-2 div.sk-parallel-item::before {content: \"\";position: absolute;border-left: 1px solid gray;box-sizing: border-box;top: 0;bottom: 0;left: 50%;z-index: -1;}#sk-container-id-2 div.sk-parallel-item {display: flex;flex-direction: column;z-index: 1;position: relative;background-color: white;}#sk-container-id-2 div.sk-parallel-item:first-child::after {align-self: flex-end;width: 50%;}#sk-container-id-2 div.sk-parallel-item:last-child::after {align-self: flex-start;width: 50%;}#sk-container-id-2 div.sk-parallel-item:only-child::after {width: 0;}#sk-container-id-2 div.sk-dashed-wrapped {border: 1px dashed gray;margin: 0 0.4em 0.5em 0.4em;box-sizing: border-box;padding-bottom: 0.4em;background-color: white;}#sk-container-id-2 div.sk-label label {font-family: monospace;font-weight: bold;display: inline-block;line-height: 1.2em;}#sk-container-id-2 div.sk-label-container {text-align: center;}#sk-container-id-2 div.sk-container {/* jupyter's `normalize.less` sets `[hidden] { display: none; }` but bootstrap.min.css set `[hidden] { display: none !important; }` so we also need the `!important` here to be able to override the default hidden behavior on the sphinx rendered scikit-learn.org. See: https://github.com/scikit-learn/scikit-learn/issues/21755 */display: inline-block !important;position: relative;}#sk-container-id-2 div.sk-text-repr-fallback {display: none;}</style><div id=\"sk-container-id-2\" class=\"sk-top-container\"><div class=\"sk-text-repr-fallback\"><pre>Pipeline(steps=[(&#x27;feature_union&#x27;,\n",
       "                 FeatureUnion(transformer_list=[(&#x27;tfidf&#x27;,\n",
       "                                                 Pipeline(steps=[(&#x27;text_selector&#x27;,\n",
       "                                                                  TextFeaturesExtractor(column=&#x27;abstract&#x27;)),\n",
       "                                                                 (&#x27;vectorizer&#x27;,\n",
       "                                                                  TfidfVectorizer(stop_words=&#x27;english&#x27;))])),\n",
       "                                                (&#x27;numeric&#x27;,\n",
       "                                                 NumericFeaturesExtractor(columns=[&#x27;class0_weight&#x27;,\n",
       "                                                                                   &#x27;class1_weight&#x27;,\n",
       "                                                                                   &#x27;class2_weight&#x27;,\n",
       "                                                                                   &#x27;class3_weight&#x27;,\n",
       "                                                                                   &#x27;class4_weight&#x27;,\n",
       "                                                                                   &#x27;year&#x27;]))])),\n",
       "                (&#x27;classifier&#x27;,\n",
       "                 LGBMClassifier(num_classes=5, objective=&#x27;multiclass&#x27;))])</pre><b>In a Jupyter environment, please rerun this cell to show the HTML representation or trust the notebook. <br />On GitHub, the HTML representation is unable to render, please try loading this page with nbviewer.org.</b></div><div class=\"sk-container\" hidden><div class=\"sk-item sk-dashed-wrapped\"><div class=\"sk-label-container\"><div class=\"sk-label sk-toggleable\"><input class=\"sk-toggleable__control sk-hidden--visually\" id=\"sk-estimator-id-7\" type=\"checkbox\" ><label for=\"sk-estimator-id-7\" class=\"sk-toggleable__label sk-toggleable__label-arrow\">Pipeline</label><div class=\"sk-toggleable__content\"><pre>Pipeline(steps=[(&#x27;feature_union&#x27;,\n",
       "                 FeatureUnion(transformer_list=[(&#x27;tfidf&#x27;,\n",
       "                                                 Pipeline(steps=[(&#x27;text_selector&#x27;,\n",
       "                                                                  TextFeaturesExtractor(column=&#x27;abstract&#x27;)),\n",
       "                                                                 (&#x27;vectorizer&#x27;,\n",
       "                                                                  TfidfVectorizer(stop_words=&#x27;english&#x27;))])),\n",
       "                                                (&#x27;numeric&#x27;,\n",
       "                                                 NumericFeaturesExtractor(columns=[&#x27;class0_weight&#x27;,\n",
       "                                                                                   &#x27;class1_weight&#x27;,\n",
       "                                                                                   &#x27;class2_weight&#x27;,\n",
       "                                                                                   &#x27;class3_weight&#x27;,\n",
       "                                                                                   &#x27;class4_weight&#x27;,\n",
       "                                                                                   &#x27;year&#x27;]))])),\n",
       "                (&#x27;classifier&#x27;,\n",
       "                 LGBMClassifier(num_classes=5, objective=&#x27;multiclass&#x27;))])</pre></div></div></div><div class=\"sk-serial\"><div class=\"sk-item sk-dashed-wrapped\"><div class=\"sk-label-container\"><div class=\"sk-label sk-toggleable\"><input class=\"sk-toggleable__control sk-hidden--visually\" id=\"sk-estimator-id-8\" type=\"checkbox\" ><label for=\"sk-estimator-id-8\" class=\"sk-toggleable__label sk-toggleable__label-arrow\">feature_union: FeatureUnion</label><div class=\"sk-toggleable__content\"><pre>FeatureUnion(transformer_list=[(&#x27;tfidf&#x27;,\n",
       "                                Pipeline(steps=[(&#x27;text_selector&#x27;,\n",
       "                                                 TextFeaturesExtractor(column=&#x27;abstract&#x27;)),\n",
       "                                                (&#x27;vectorizer&#x27;,\n",
       "                                                 TfidfVectorizer(stop_words=&#x27;english&#x27;))])),\n",
       "                               (&#x27;numeric&#x27;,\n",
       "                                NumericFeaturesExtractor(columns=[&#x27;class0_weight&#x27;,\n",
       "                                                                  &#x27;class1_weight&#x27;,\n",
       "                                                                  &#x27;class2_weight&#x27;,\n",
       "                                                                  &#x27;class3_weight&#x27;,\n",
       "                                                                  &#x27;class4_weight&#x27;,\n",
       "                                                                  &#x27;year&#x27;]))])</pre></div></div></div><div class=\"sk-parallel\"><div class=\"sk-parallel-item\"><div class=\"sk-item\"><div class=\"sk-label-container\"><div class=\"sk-label sk-toggleable\"><label>tfidf</label></div></div><div class=\"sk-serial\"><div class=\"sk-item\"><div class=\"sk-serial\"><div class=\"sk-item\"><div class=\"sk-estimator sk-toggleable\"><input class=\"sk-toggleable__control sk-hidden--visually\" id=\"sk-estimator-id-9\" type=\"checkbox\" ><label for=\"sk-estimator-id-9\" class=\"sk-toggleable__label sk-toggleable__label-arrow\">TextFeaturesExtractor</label><div class=\"sk-toggleable__content\"><pre>TextFeaturesExtractor(column=&#x27;abstract&#x27;)</pre></div></div></div><div class=\"sk-item\"><div class=\"sk-estimator sk-toggleable\"><input class=\"sk-toggleable__control sk-hidden--visually\" id=\"sk-estimator-id-10\" type=\"checkbox\" ><label for=\"sk-estimator-id-10\" class=\"sk-toggleable__label sk-toggleable__label-arrow\">TfidfVectorizer</label><div class=\"sk-toggleable__content\"><pre>TfidfVectorizer(stop_words=&#x27;english&#x27;)</pre></div></div></div></div></div></div></div></div><div class=\"sk-parallel-item\"><div class=\"sk-item\"><div class=\"sk-label-container\"><div class=\"sk-label sk-toggleable\"><label>numeric</label></div></div><div class=\"sk-serial\"><div class=\"sk-item\"><div class=\"sk-estimator sk-toggleable\"><input class=\"sk-toggleable__control sk-hidden--visually\" id=\"sk-estimator-id-11\" type=\"checkbox\" ><label for=\"sk-estimator-id-11\" class=\"sk-toggleable__label sk-toggleable__label-arrow\">NumericFeaturesExtractor</label><div class=\"sk-toggleable__content\"><pre>NumericFeaturesExtractor(columns=[&#x27;class0_weight&#x27;, &#x27;class1_weight&#x27;,\n",
       "                                  &#x27;class2_weight&#x27;, &#x27;class3_weight&#x27;,\n",
       "                                  &#x27;class4_weight&#x27;, &#x27;year&#x27;])</pre></div></div></div></div></div></div></div></div><div class=\"sk-item\"><div class=\"sk-estimator sk-toggleable\"><input class=\"sk-toggleable__control sk-hidden--visually\" id=\"sk-estimator-id-12\" type=\"checkbox\" ><label for=\"sk-estimator-id-12\" class=\"sk-toggleable__label sk-toggleable__label-arrow\">LGBMClassifier</label><div class=\"sk-toggleable__content\"><pre>LGBMClassifier(num_classes=5, objective=&#x27;multiclass&#x27;)</pre></div></div></div></div></div></div></div>"
      ],
      "text/plain": [
       "Pipeline(steps=[('feature_union',\n",
       "                 FeatureUnion(transformer_list=[('tfidf',\n",
       "                                                 Pipeline(steps=[('text_selector',\n",
       "                                                                  TextFeaturesExtractor(column='abstract')),\n",
       "                                                                 ('vectorizer',\n",
       "                                                                  TfidfVectorizer(stop_words='english'))])),\n",
       "                                                ('numeric',\n",
       "                                                 NumericFeaturesExtractor(columns=['class0_weight',\n",
       "                                                                                   'class1_weight',\n",
       "                                                                                   'class2_weight',\n",
       "                                                                                   'class3_weight',\n",
       "                                                                                   'class4_weight',\n",
       "                                                                                   'year']))])),\n",
       "                ('classifier',\n",
       "                 LGBMClassifier(num_classes=5, objective='multiclass'))])"
      ]
     },
     "execution_count": 34,
     "metadata": {},
     "output_type": "execute_result"
    }
   ],
   "source": [
    "# Fit the pipeline to your data\n",
    "pipeline.fit(df_train, y_train)"
   ]
  },
  {
   "cell_type": "code",
   "execution_count": 35,
   "metadata": {},
   "outputs": [],
   "source": [
    "# Predict probabilities for each class\n",
    "y_pred = pipeline.predict_proba(df_test)"
   ]
  },
  {
   "cell_type": "code",
   "execution_count": 36,
   "metadata": {},
   "outputs": [],
   "source": [
    "# Write predictions to a file\n",
    "with open('sample_submission.csv', 'w') as csvfile:\n",
    "    writer = csv.writer(csvfile, delimiter=',')\n",
    "    lst = list()\n",
    "    for i in range(5):\n",
    "        lst.append('class_'+str(i))\n",
    "    lst.insert(0, \"paperID\")\n",
    "    writer.writerow(lst)\n",
    "    for i,test_paper in enumerate(test_papers):\n",
    "        lst = y_pred[i,:].tolist()\n",
    "        lst.insert(0, test_paper)\n",
    "        writer.writerow(lst)"
   ]
  },
  {
   "attachments": {},
   "cell_type": "markdown",
   "metadata": {},
   "source": [
    "#### With Randomized Search"
   ]
  },
  {
   "cell_type": "code",
   "execution_count": 230,
   "metadata": {},
   "outputs": [
    {
     "name": "stdout",
     "output_type": "stream",
     "text": [
      "Fitting 3 folds for each of 20 candidates, totalling 60 fits\n"
     ]
    }
   ],
   "source": [
    "#### Use Random Search\n",
    "random_search.fit(df_train, y_train)"
   ]
  },
  {
   "cell_type": "code",
   "execution_count": null,
   "metadata": {},
   "outputs": [],
   "source": [
    "print(\"Best parameters found: \", random_search.best_params_)\n",
    "print(\"Best score found: \", random_search.best_score_)"
   ]
  },
  {
   "cell_type": "code",
   "execution_count": null,
   "metadata": {},
   "outputs": [],
   "source": [
    "# Predict probabilities for each class using the best estimator\n",
    "best_estimator = random_search.best_estimator_\n",
    "y_pred = best_estimator.predict_proba(df_test)"
   ]
  },
  {
   "cell_type": "code",
   "execution_count": null,
   "metadata": {},
   "outputs": [],
   "source": [
    "# Write predictions to a file\n",
    "with open('sample_submission.csv', 'w') as csvfile:\n",
    "    writer = csv.writer(csvfile, delimiter=',')\n",
    "    lst = list()\n",
    "    for i in range(5):\n",
    "        lst.append('class_'+str(i))\n",
    "    lst.insert(0, \"paperID\")\n",
    "    writer.writerow(lst)\n",
    "    for i,test_paper in enumerate(test_papers):\n",
    "        lst = y_pred[i,:].tolist()\n",
    "        lst.insert(0, test_paper)\n",
    "        writer.writerow(lst)"
   ]
  }
 ],
 "metadata": {
  "kernelspec": {
   "display_name": "Python 3",
   "language": "python",
   "name": "python3"
  },
  "language_info": {
   "codemirror_mode": {
    "name": "ipython",
    "version": 3
   },
   "file_extension": ".py",
   "mimetype": "text/x-python",
   "name": "python",
   "nbconvert_exporter": "python",
   "pygments_lexer": "ipython3",
   "version": "3.8.12"
  },
  "orig_nbformat": 4
 },
 "nbformat": 4,
 "nbformat_minor": 2
}
